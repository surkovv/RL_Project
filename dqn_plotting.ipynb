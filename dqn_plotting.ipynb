{
 "cells": [
  {
   "cell_type": "code",
   "id": "initial_id",
   "metadata": {
    "collapsed": true,
    "ExecuteTime": {
     "end_time": "2025-05-30T21:23:32.029689Z",
     "start_time": "2025-05-30T21:23:31.374332Z"
    }
   },
   "source": [
    "import numpy as np\n",
    "import random\n",
    "import torch\n",
    "from collections import defaultdict\n",
    "import matplotlib.pyplot as plt\n",
    "from dqn import DQNAgent"
   ],
   "outputs": [],
   "execution_count": 2
  },
  {
   "metadata": {
    "ExecuteTime": {
     "end_time": "2025-05-30T21:23:36.394672Z",
     "start_time": "2025-05-30T21:23:36.392591Z"
    }
   },
   "cell_type": "code",
   "source": [
    "def set_seed(seed):\n",
    "    random.seed(seed)\n",
    "    np.random.seed(seed)\n",
    "    torch.manual_seed(seed)"
   ],
   "id": "bcc291a9b3f5c240",
   "outputs": [],
   "execution_count": 3
  },
  {
   "metadata": {
    "ExecuteTime": {
     "end_time": "2025-05-30T21:23:42.344404Z",
     "start_time": "2025-05-30T21:23:42.342738Z"
    }
   },
   "cell_type": "code",
   "source": "SEEDS = [23, 42, 2025]",
   "id": "398261a737e09ca8",
   "outputs": [],
   "execution_count": 4
  },
  {
   "metadata": {
    "ExecuteTime": {
     "end_time": "2025-05-30T21:23:49.511847Z",
     "start_time": "2025-05-30T21:23:49.509509Z"
    }
   },
   "cell_type": "code",
   "source": [
    "def average_by_position(dict1, dict2, dict3):\n",
    "    # Sort each dict by key and get the values in order\n",
    "    vals1 = [v for k, v in sorted(dict1.items())]\n",
    "    vals2 = [v for k, v in sorted(dict2.items())]\n",
    "    vals3 = [v for k, v in sorted(dict3.items())]\n",
    "\n",
    "    # Use keys from sorted dict1 as output keys\n",
    "    keys = [k for k, v in sorted(dict1.items())]\n",
    "\n",
    "    result = {}\n",
    "    for i, k in enumerate(keys):\n",
    "        # Get i-th value from each dict\n",
    "        v1 = vals1[i]\n",
    "        v2 = vals2[i]\n",
    "        v3 = vals3[i]\n",
    "        values = [v1, v2, v3]\n",
    "        result[k] = {\n",
    "            'mean': np.mean(values),\n",
    "            'std': np.std(values)\n",
    "        }\n",
    "\n",
    "    return result"
   ],
   "id": "52b100d97330e328",
   "outputs": [],
   "execution_count": 5
  },
  {
   "metadata": {
    "ExecuteTime": {
     "end_time": "2025-05-30T21:43:58.855842Z",
     "start_time": "2025-05-30T21:24:04.679015Z"
    }
   },
   "cell_type": "code",
   "source": [
    "#############################\n",
    "# HARD UPDATE\n",
    "#############################\n",
    "\n",
    "eps_decay_list = [0.99, 0.995, 0.999]\n",
    "lrs = [3e-3, 1e-3, 3e-4, 1e-4]\n",
    "bs = [32, 64, 128]\n",
    "num_layer=[2,3,4]\n",
    "\n",
    "results_dict = {}\n",
    "times = []\n",
    "agents1 = []\n",
    "\n",
    "for x in eps_decay_list:\n",
    "    all_train_rewards = []\n",
    "    all_eval_rewards = []\n",
    "    for seed in SEEDS:\n",
    "        print(\"LR = \", x, \"seed = \", seed)\n",
    "        set_seed(seed)\n",
    "\n",
    "        dqn_agent = DQNAgent(\n",
    "            env_name=\"Acrobot-v1\",\n",
    "            hidden_dim=128,\n",
    "            episodes=1400,\n",
    "            batch_size=64,\n",
    "            num_steps=500,\n",
    "            num_layers=4,\n",
    "            learning_rate=3e-4,\n",
    "            eval_interval=5,\n",
    "            epsilon=1.0,\n",
    "            tau = 1.0,\n",
    "            gamma = 0.99,\n",
    "            epsilon_min=0.05,\n",
    "            epsilon_decay=x,\n",
    "            update_freq=1000\n",
    "        )\n",
    "\n",
    "        rewards_history, eval_rewards_history, total_time = dqn_agent.train_with_seed(seed=seed)\n",
    "\n",
    "        all_train_rewards.append(rewards_history)\n",
    "        all_eval_rewards.append(eval_rewards_history)\n",
    "        agents1.append(dqn_agent)\n",
    "        times.append(total_time)\n",
    "\n",
    "\n",
    "    avg_train_rewards = average_by_position(all_train_rewards[0], all_train_rewards[1], all_train_rewards[2])\n",
    "    avg_eval_rewards = average_by_position(all_eval_rewards[0], all_eval_rewards[1], all_eval_rewards[2])\n",
    "    print(\"eval: \", len(avg_eval_rewards))\n",
    "\n",
    "    results_dict[f\"LR={x}\"] = {\n",
    "        \"avg_train_rewards\": avg_train_rewards,\n",
    "        \"avg_eval_rewards\": avg_eval_rewards\n",
    "    }"
   ],
   "id": "93f258d691dc2e03",
   "outputs": [
    {
     "name": "stdout",
     "output_type": "stream",
     "text": [
      "LR =  0.99 seed =  23\n",
      "LR =  0.99 seed =  42\n",
      "LR =  0.99 seed =  2025\n",
      "eval:  280\n",
      "LR =  0.995 seed =  23\n",
      "LR =  0.995 seed =  42\n",
      "LR =  0.995 seed =  2025\n",
      "eval:  280\n",
      "LR =  0.999 seed =  23\n",
      "LR =  0.999 seed =  42\n",
      "LR =  0.999 seed =  2025\n",
      "eval:  280\n"
     ]
    }
   ],
   "execution_count": 6
  },
  {
   "metadata": {
    "ExecuteTime": {
     "end_time": "2025-05-30T21:43:59.237500Z",
     "start_time": "2025-05-30T21:43:59.236050Z"
    }
   },
   "cell_type": "code",
   "source": [
    "for idx in range(len(agents1)):\n",
    "    print(agents1[idx].best_reward_mean, \"std\", agents1[idx].best_reward_std)"
   ],
   "id": "77c6edd74787c940",
   "outputs": [
    {
     "name": "stdout",
     "output_type": "stream",
     "text": [
      "-65.8 std 3.7094473981982814\n",
      "-64.1 std 5.156549233741495\n",
      "-68.7 std 6.466065264130884\n",
      "-66.95 std 3.6806928695559487\n",
      "-64.3 std 4.371498598878878\n",
      "-66.7 std 6.805145112339633\n",
      "-66.8 std 7.865112840894274\n",
      "-67.2 std 7.858753081755401\n",
      "-65.45 std 6.224748990923249\n"
     ]
    }
   ],
   "execution_count": 9
  },
  {
   "metadata": {},
   "cell_type": "code",
   "outputs": [],
   "execution_count": null,
   "source": [
    "for eps_decay, results in results_dict.items():\n",
    "    filename = f'mc_avg_eval_rewards_{eps_decay}_hard_update_300_4.npy'\n",
    "    np.save(filename, results[\"avg_eval_rewards\"], allow_pickle=True)"
   ],
   "id": "67bd8ff2a1d2f261"
  },
  {
   "metadata": {},
   "cell_type": "code",
   "outputs": [],
   "execution_count": null,
   "source": [
    "for eps_decay, results in results_dict.items():\n",
    "    filename = f'mc_avg_train_rewards_{eps_decay}_hard_update_300_4.npy'\n",
    "    np.save(filename, results[\"avg_train_rewards\"], allow_pickle=True)"
   ],
   "id": "9ed0ac23e5c605dc"
  },
  {
   "metadata": {
    "ExecuteTime": {
     "end_time": "2025-05-30T21:50:12.075283Z",
     "start_time": "2025-05-30T21:43:59.250368Z"
    }
   },
   "cell_type": "code",
   "source": [
    "#############################\n",
    "# SOFT UPDATE\n",
    "#############################\n",
    "\n",
    "eps_decay_list = [0.99]\n",
    "lrs = [3e-3, 1e-3, 3e-4, 1e-4]\n",
    "bs = [32, 64, 128]\n",
    "num_layers = [2,3,4]\n",
    "\n",
    "tresults = {}\n",
    "times2 = []\n",
    "agents2 = []\n",
    "# gammas = [0.9, 0.95, 0.99]\n",
    "for x in eps_decay_list:\n",
    "    all_train_rewards = []\n",
    "    all_eval_rewards = []\n",
    "    for seed in SEEDS:\n",
    "        print(\"LR = \", x, \"seed = \", seed)\n",
    "        set_seed(seed)\n",
    "\n",
    "        dqn_agent = DQNAgent(\n",
    "            env_name=\"MountainCar-v0\",\n",
    "            hidden_dim=128,\n",
    "            episodes=1300,\n",
    "            batch_size=64,\n",
    "            num_steps=200,\n",
    "            num_layers=3,\n",
    "            learning_rate=3e-4,\n",
    "            eval_interval=5,\n",
    "            epsilon=1.0,\n",
    "            tau = 0.05,\n",
    "            gamma = 0.99,\n",
    "            epsilon_min=0.05,\n",
    "            epsilon_decay=x\n",
    "        )\n",
    "\n",
    "        rewards_history, eval_rewards_history, total_time = dqn_agent.train_with_seed(seed=seed)\n",
    "\n",
    "        all_train_rewards.append(rewards_history)\n",
    "        all_eval_rewards.append(eval_rewards_history)\n",
    "        agents2.append(dqn_agent)\n",
    "        times2.append(total_time)\n",
    "\n",
    "\n",
    "    avg_train_rewards = average_by_position(all_train_rewards[0], all_train_rewards[1], all_train_rewards[2])\n",
    "    avg_eval_rewards = average_by_position(all_eval_rewards[0], all_eval_rewards[1], all_eval_rewards[2])\n",
    "    print(\"eval: \", len(avg_eval_rewards))\n",
    "\n",
    "    tresults[f\"LR={x}\"] = {\n",
    "        \"avg_train_rewards\": avg_train_rewards,\n",
    "        \"avg_eval_rewards\": avg_eval_rewards\n",
    "    }"
   ],
   "id": "f7c80a457733c783",
   "outputs": [
    {
     "name": "stdout",
     "output_type": "stream",
     "text": [
      "LR =  0.99 seed =  23\n",
      "LR =  0.99 seed =  42\n",
      "LR =  0.99 seed =  2025\n",
      "eval:  260\n"
     ]
    }
   ],
   "execution_count": 10
  },
  {
   "metadata": {
    "ExecuteTime": {
     "end_time": "2025-05-30T21:50:12.089912Z",
     "start_time": "2025-05-30T21:50:12.088382Z"
    }
   },
   "cell_type": "code",
   "source": [
    "for idx in range(len(agents2)):\n",
    "    print(agents2[idx].best_reward_mean, \"std\", agents2[idx].best_reward_std)"
   ],
   "id": "d7bdeda670b82447",
   "outputs": [
    {
     "name": "stdout",
     "output_type": "stream",
     "text": [
      "-99.5 std 11.390785749894517\n",
      "-103.0 std 11.117553687749837\n",
      "-103.65 std 10.135457562438905\n"
     ]
    }
   ],
   "execution_count": 11
  },
  {
   "metadata": {},
   "cell_type": "code",
   "outputs": [],
   "execution_count": null,
   "source": [
    "for eps_decay, results in tresults.items():\n",
    "    filename = f'mountain_Car_eps_0.995_soft.npy'\n",
    "    np.save(filename, results[\"avg_eval_rewards\"], allow_pickle=True)"
   ],
   "id": "fa23168921e575de"
  },
  {
   "metadata": {},
   "cell_type": "code",
   "outputs": [],
   "execution_count": null,
   "source": [
    "for eps_decay, results in tresults.items():\n",
    "    filename = f'mc_avg_train_rewards_{eps_decay}_soft_update_4.npy'\n",
    "    np.save(filename, results[\"avg_train_rewards\"], allow_pickle=True)"
   ],
   "id": "551b81c93645593"
  }
 ],
 "metadata": {
  "kernelspec": {
   "display_name": "Python 3",
   "language": "python",
   "name": "python3"
  },
  "language_info": {
   "codemirror_mode": {
    "name": "ipython",
    "version": 2
   },
   "file_extension": ".py",
   "mimetype": "text/x-python",
   "name": "python",
   "nbconvert_exporter": "python",
   "pygments_lexer": "ipython2",
   "version": "2.7.6"
  }
 },
 "nbformat": 4,
 "nbformat_minor": 5
}
